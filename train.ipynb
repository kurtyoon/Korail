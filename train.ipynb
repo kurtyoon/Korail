{
 "cells": [
  {
   "cell_type": "code",
   "execution_count": null,
   "metadata": {},
   "outputs": [],
   "source": [
    "from selenium import webdriver\n",
    "import time\n",
    "import requests\n",
    "from bs4 import BeautifulSoup\n",
    "\n",
    "member_num = input('멤버십 아이디 입력: ')\n",
    "passwd = input('비밀번호 입력: ')\n",
    "start = input('출발지 입력: ')\n",
    "end = input('도착지 입력: ')\n",
    "year = input('년: ')\n",
    "month = input('월: ')\n",
    "day = input('일: ')\n",
    "hours = input('시간 (0~23): ')"
   ]
  },
  {
   "cell_type": "code",
   "execution_count": null,
   "metadata": {},
   "outputs": [],
   "source": [
    "driver = webdriver.Chrome('/usr/local/bin/chromedriver')\n",
    "\n",
    "driver.implicitly_wait(4)\n",
    "driver.get('https://www.letskorail.com/korail/com/login.do')\n",
    "time.sleep(0.5)\n",
    "driver.find_element_by_name('txtMember').send_keys(member_num)\n",
    "time.sleep(0.5)\n",
    "driver.find_element_by_name('txtPwd').send_keys(passwd)\n",
    "\n",
    "driver.find_element_by_xpath(\"//img[@src ='/images/btn_login.gif']\").click()\n",
    "driver.implicitly_wait(3)\n",
    "time.sleep(0.5)\n",
    "\n",
    "driver.get('https://www.letskorail.com/ebizprd/EbizPrdTicketpr21100W_pr21110.do')\n",
    "driver.implicitly_wait(3)\n",
    "\n",
    "driver.find_element_by_name('txtGoStart').clear()\n",
    "driver.find_element_by_name('txtGoStart').send_keys(start)\n",
    "driver.find_element_by_name('txtGoEnd').clear()\n",
    "driver.find_element_by_name('txtGoEnd').send_keys(end)\n",
    "\n",
    "driver.find_element_by_name('selGoYear').send_keys(year)\n",
    "driver.find_element_by_name('selGoMonth').send_keys(month)\n",
    "driver.find_element_by_name('selGoDay').send_keys(day)\n",
    "driver.find_element_by_name('selGoHour').send_keys(hours)\n",
    "\n",
    "driver.find_element_by_xpath(\"//img[@src ='/images/btn_inq_tick.gif']\").click()"
   ]
  },
  {
   "cell_type": "code",
   "execution_count": null,
   "metadata": {},
   "outputs": [],
   "source": [
    "while True:\n",
    "  time.sleep(5)\n",
    "  driver.refresh()"
   ]
  }
 ],
 "metadata": {
  "kernelspec": {
   "display_name": "Python 3",
   "language": "python",
   "name": "python3"
  },
  "language_info": {
   "codemirror_mode": {
    "name": "ipython",
    "version": 3
   },
   "file_extension": ".py",
   "mimetype": "text/x-python",
   "name": "python",
   "nbconvert_exporter": "python",
   "pygments_lexer": "ipython3",
   "version": "3.9.16"
  },
  "orig_nbformat": 4
 },
 "nbformat": 4,
 "nbformat_minor": 2
}
