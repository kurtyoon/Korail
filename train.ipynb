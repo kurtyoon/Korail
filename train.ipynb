{
 "cells": [
  {
   "cell_type": "code",
   "execution_count": null,
   "metadata": {},
   "outputs": [],
   "source": [
    "# import\n",
    "from selenium import webdriver\n",
    "from selenium.webdriver.common.by import By\n",
    "import time\n",
    "import requests\n",
    "from bs4 import BeautifulSoup\n",
    "\n",
    "# 기본정보 입력\n",
    "member_num = input('멤버십 아이디 입력: ')\n",
    "passwd = input('비밀번호 입력: ')\n",
    "start = input('출발지 입력: ')\n",
    "end = input('도착지 입력: ')\n",
    "year = input('년: ')\n",
    "month = input('월: ')\n",
    "day = input('일: ')\n",
    "hours = input('시간 (0~23): ')"
   ]
  },
  {
   "cell_type": "code",
   "execution_count": null,
   "metadata": {},
   "outputs": [],
   "source": [
    "# 크롬 드라이버 입력\n",
    "driver = webdriver.Chrome('/usr/local/bin/chromedriver')\n",
    "\n",
    "driver.implicitly_wait(4)\n",
    "\n",
    "# 코레일 로그인 페이지 이동\n",
    "driver.get('https://www.letskorail.com/korail/com/login.do')\n",
    "time.sleep(0.5)\n",
    "\n",
    "# 멤버십 아이디 입력\n",
    "driver.find_element_by_name('txtMember').send_keys(member_num)\n",
    "time.sleep(0.5)\n",
    "\n",
    "# 멤버십 비밀번호 입력\n",
    "driver.find_element_by_name('txtPwd').send_keys(passwd)\n",
    "\n",
    "# 로그인 버튼 클릭\n",
    "driver.find_element_by_xpath(\"//img[@src ='/images/btn_login.gif']\").click()\n",
    "driver.implicitly_wait(3)\n",
    "time.sleep(0.5)\n",
    "\n",
    "# 열차 조회 페이지 이동\n",
    "driver.get('https://www.letskorail.com/ebizprd/EbizPrdTicketpr21100W_pr21110.do')\n",
    "driver.implicitly_wait(3)\n",
    "\n",
    "# SRT / KTX 버튼 클릭\n",
    "driver.find_element_by_id('selGoTrainRa00').click()\n",
    "\n",
    "# 출발지, 도착지 정보 입력\n",
    "driver.find_element_by_name('txtGoStart').clear()\n",
    "driver.find_element_by_name('txtGoStart').send_keys(start)\n",
    "driver.find_element_by_name('txtGoEnd').clear()\n",
    "driver.find_element_by_name('txtGoEnd').send_keys(end)\n",
    "\n",
    "# 출발 시간 입력\n",
    "driver.find_element_by_name('selGoYear').send_keys(year)\n",
    "driver.find_element_by_name('selGoMonth').send_keys(month)\n",
    "driver.find_element_by_name('selGoDay').send_keys(day)\n",
    "driver.find_element_by_name('selGoHour').send_keys(hours)\n",
    "\n",
    "# 조회 버튼 클릭\n",
    "driver.find_element_by_xpath(\"//img[@src ='/images/btn_inq_tick.gif']\").click()"
   ]
  },
  {
   "cell_type": "code",
   "execution_count": null,
   "metadata": {},
   "outputs": [],
   "source": [
    "# 조회된 열차의 개수 확인\n",
    "tbody = driver.find_element(By.XPATH, \"/html/body/div[1]/div[3]/div/div[1]/form[1]/div/div[4]/table[1]/tbody\")\n",
    "\n",
    "rows = tbody.find_elements(By.TAG_NAME, \"tr\")\n",
    "i = 1\n",
    "for value in enumerate(rows):\n",
    "  i+=1\n",
    "  \n",
    "print(f'{i - 1} 개의 열차가 조회되었습니다')"
   ]
  },
  {
   "cell_type": "code",
   "execution_count": null,
   "metadata": {},
   "outputs": [],
   "source": [
    "is_reservation = None\n",
    "# 열차를 찾을 때 까지 반복\n",
    "flag = True\n",
    "while flag:\n",
    "  j = 1\n",
    "  # 새로고침\n",
    "  driver.refresh()\n",
    "  # 첫 번째 열차부터 반복문을 통해 열차 조회\n",
    "  while j < i:\n",
    "    print(f'{j} 번째 열차')\n",
    "    # 좌석 매진 or 예약하기\n",
    "    # 특실 / 우등실: td[5], 일반실: td[6], 유아: td[7], 자유석 / 입석: td[8]\n",
    "    is_reservation = driver.find_element(By.XPATH, \"/html/body/div[1]/div[3]/div/div[1]/form[1]/div/div[4]/table[1]/tbody/tr[%s]/td[6]//img\" % j).get_attribute(\"alt\")\n",
    "    print(is_reservation)\n",
    "    if is_reservation == '예약하기':\n",
    "      # 예약하기 버튼 클릭\n",
    "      driver.find_element(By.XPATH, \"/html/body/div[1]/div[3]/div/div[1]/form[1]/div/div[4]/table[1]/tbody/tr[%s]/td[6]/a[1]/img\" % j).click()\n",
    "      time.sleep(5)\n",
    "      falg = False\n",
    "      break\n",
    "    j += 1\n",
    "  time.sleep(5)\n",
    "print('예약을 완료 하였습니다')"
   ]
  }
 ],
 "metadata": {
  "kernelspec": {
   "display_name": "Python 3",
   "language": "python",
   "name": "python3"
  },
  "language_info": {
   "codemirror_mode": {
    "name": "ipython",
    "version": 3
   },
   "file_extension": ".py",
   "mimetype": "text/x-python",
   "name": "python",
   "nbconvert_exporter": "python",
   "pygments_lexer": "ipython3",
   "version": "3.9.16"
  },
  "orig_nbformat": 4
 },
 "nbformat": 4,
 "nbformat_minor": 2
}
